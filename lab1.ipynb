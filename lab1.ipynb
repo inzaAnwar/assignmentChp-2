{
 "cells": [
  {
   "cell_type": "code",
   "execution_count": 1,
   "id": "ea77bda3",
   "metadata": {},
   "outputs": [
    {
     "name": "stdout",
     "output_type": "stream",
     "text": [
      "abc\n",
      "12345\n",
      "inzaAnwar\n",
      "10\n"
     ]
    }
   ],
   "source": [
    "#Contant\n",
    "print('abc')\n",
    "print(12345)\n",
    "print(\"inzaAnwar\")\n",
    "a=10\n",
    "print(a)"
   ]
  },
  {
   "cell_type": "code",
   "execution_count": null,
   "id": "9eb931b8",
   "metadata": {},
   "outputs": [],
   "source": []
  },
  {
   "cell_type": "code",
   "execution_count": 2,
   "id": "0c6d8c8a",
   "metadata": {},
   "outputs": [
    {
     "name": "stdout",
     "output_type": "stream",
     "text": [
      "15 inza\n",
      "2 1 3\n",
      "worker totall hours  8\n",
      "worker totall Salary  3000\n",
      "24000\n"
     ]
    }
   ],
   "source": [
    "#Variables\n",
    "a=12 # \"a\" is a variable\n",
    "b='inza'\n",
    "a=15\n",
    "print(a,b)\n",
    "#sound same spelling same but 3 differnt variable case sensitivity\n",
    "Spam=1\n",
    "spam=2\n",
    "SPAM=3\n",
    "print(spam,Spam,SPAM)\n",
    "#Menimonic means understandable and welldefine variable name\n",
    "hours=8\n",
    "salary=3000\n",
    "print(\"worker totall hours \",hours)\n",
    "print(\"worker totall Salary \",salary)\n",
    "#how to laculate salary if you know working hours & per hours rate\n",
    "Working_hours=8\n",
    "per_hourRate=3000\n",
    "salary=Working_hours*per_hourRate\n",
    "print(salary)"
   ]
  },
  {
   "cell_type": "code",
   "execution_count": 3,
   "id": "d794867d",
   "metadata": {},
   "outputs": [
    {
     "name": "stdout",
     "output_type": "stream",
     "text": [
      "-7.8\n",
      "7\n",
      "3\n",
      "32768\n"
     ]
    }
   ],
   "source": [
    "#Assignment operator & expressions\n",
    "x=2\n",
    "x=3.9*x*(1-2)\n",
    "print(x)\n",
    "#Expressions\n",
    "#Plus operator\n",
    "x=2\n",
    "x=x+5\n",
    "print(x)\n",
    "# remainder\n",
    "y=23\n",
    "z=23%5\n",
    "print(z)\n",
    "#Power\n",
    "oo=8\n",
    "power=oo**5\n",
    "print(power)"
   ]
  },
  {
   "cell_type": "code",
   "execution_count": 4,
   "id": "dcb309aa",
   "metadata": {},
   "outputs": [
    {
     "name": "stdout",
     "output_type": "stream",
     "text": [
      "6.999744\n"
     ]
    }
   ],
   "source": [
    "x=1+2*3-4/5**6\n",
    "print(x)"
   ]
  },
  {
   "cell_type": "code",
   "execution_count": 5,
   "id": "8c8219b2",
   "metadata": {},
   "outputs": [
    {
     "name": "stdout",
     "output_type": "stream",
     "text": [
      "inza helo\n",
      "<class 'str'>\n",
      "3\n"
     ]
    },
    {
     "data": {
      "text/plain": [
       "float"
      ]
     },
     "execution_count": 5,
     "metadata": {},
     "output_type": "execute_result"
    }
   ],
   "source": [
    "#type\n",
    "a=\"inza\"\n",
    "b=\"helo\"\n",
    "print(a,b)\n",
    "a=\"inza\"+\"hello\"\n",
    "print(type(a))\n",
    "a=1+2\n",
    "print(a)\n",
    "b=2\n",
    "type(b)\n",
    "c=\"hello inza\"\n",
    "type(c)\n",
    "h=0.09\n",
    "type(h)"
   ]
  },
  {
   "cell_type": "code",
   "execution_count": 6,
   "id": "01d895f3",
   "metadata": {},
   "outputs": [
    {
     "name": "stdout",
     "output_type": "stream",
     "text": [
      "10.0\n",
      "89\n",
      "88\n",
      "178\n"
     ]
    }
   ],
   "source": [
    "#Convertion int & float\n",
    "x=10\n",
    "print(float(x))\n",
    "y=89.1\n",
    "h=88.9\n",
    "print(int(y))\n",
    "print(int(h))\n",
    "sum=y+h\n",
    "print(int(sum))"
   ]
  },
  {
   "cell_type": "code",
   "execution_count": 7,
   "id": "b3ca37bf",
   "metadata": {},
   "outputs": [
    {
     "name": "stdout",
     "output_type": "stream",
     "text": [
      "0.2\n",
      "5.0\n"
     ]
    }
   ],
   "source": [
    "#integer divison\n",
    "a=2/10\n",
    "print(a)\n",
    "a=10/2\n",
    "print(a)"
   ]
  },
  {
   "cell_type": "code",
   "execution_count": 8,
   "id": "7e27c498",
   "metadata": {},
   "outputs": [
    {
     "name": "stdout",
     "output_type": "stream",
     "text": [
      "<class 'int'>\n",
      "124\n"
     ]
    }
   ],
   "source": [
    "#String converion\n",
    "a='123'\n",
    "type(a)\n",
    "c=int(a)\n",
    "print(type(c))\n",
    "sum=c+1\n",
    "print(sum)"
   ]
  },
  {
   "cell_type": "code",
   "execution_count": 9,
   "id": "01dd7822",
   "metadata": {},
   "outputs": [
    {
     "name": "stdout",
     "output_type": "stream",
     "text": [
      "what is your nameInza\n",
      "welcome Inza\n",
      "may i help youyes\n",
      "yes  please wait for to next response\n",
      "please enter amount500\n",
      "total tax is 500\n",
      "1000\n"
     ]
    }
   ],
   "source": [
    "#Input Function\n",
    "name=input(\"what is your name\")\n",
    "print(\"welcome\",name)\n",
    "help=input(\"may i help you\")\n",
    "print(help,\" please wait for to next response\")\n",
    "amount=input(\"please enter amount\")\n",
    "tax=500\n",
    "print(\"total tax is\",tax)\n",
    "print(int(amount)+tax)\n",
    "\n"
   ]
  },
  {
   "cell_type": "code",
   "execution_count": 10,
   "id": "28991645",
   "metadata": {},
   "outputs": [
    {
     "name": "stdout",
     "output_type": "stream",
     "text": [
      "Europe floor?7\n",
      "US floor 8\n"
     ]
    }
   ],
   "source": [
    "inp = input('Europe floor?')\n",
    "usfloor = int(inp) + 1\n",
    "print('US floor', usfloor)"
   ]
  },
  {
   "cell_type": "code",
   "execution_count": 1,
   "id": "bae3a008",
   "metadata": {},
   "outputs": [
    {
     "name": "stdout",
     "output_type": "stream",
     "text": [
      "96.25\n"
     ]
    }
   ],
   "source": [
    "#exercise quetion\n",
    "\n",
    "Hours= 35\n",
    "Rate= 2.75\n",
    "pay=Hours*Rate\n",
    "print(pay)"
   ]
  },
  {
   "cell_type": "code",
   "execution_count": 2,
   "id": "c9fea899",
   "metadata": {},
   "outputs": [
    {
     "name": "stdout",
     "output_type": "stream",
     "text": [
      "Enter hours35\n",
      "per hours rate2.75\n",
      "96.25\n"
     ]
    }
   ],
   "source": [
    "# through input\n",
    "housr = input(\"Enter hours\")\n",
    "rate =input(\"per hours rate\")\n",
    "h=int(housr)\n",
    "type(h)\n",
    "r=float(rate)\n",
    "type(r)\n",
    "pay=h*r\n",
    "print(pay)"
   ]
  },
  {
   "cell_type": "code",
   "execution_count": null,
   "id": "6d3b6cc0",
   "metadata": {},
   "outputs": [],
   "source": []
  }
 ],
 "metadata": {
  "kernelspec": {
   "display_name": "Python 3 (ipykernel)",
   "language": "python",
   "name": "python3"
  },
  "language_info": {
   "codemirror_mode": {
    "name": "ipython",
    "version": 3
   },
   "file_extension": ".py",
   "mimetype": "text/x-python",
   "name": "python",
   "nbconvert_exporter": "python",
   "pygments_lexer": "ipython3",
   "version": "3.10.9"
  }
 },
 "nbformat": 4,
 "nbformat_minor": 5
}
